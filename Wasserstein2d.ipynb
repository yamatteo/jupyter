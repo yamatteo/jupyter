{
 "cells": [
  {
   "cell_type": "markdown",
   "metadata": {},
   "source": [
    "Questo è un tentativo di fare un algoritmo per calcolare la matrice di Wasserstein tra due funzioni $f, g: \\mathbb R^2 \\to \\mathbb R$ a supporto compatto."
   ]
  },
  {
   "cell_type": "markdown",
   "metadata": {},
   "source": [
    "Senza perdita di generalità si può assumere che\n",
    "$$ f(x,y) > 0 \\texttt{ or } g(x, y) > 0 \\,\\Longrightarrow 0\\, \\leq x \\leq 1 \\texttt{ and } 0 \\leq y \\leq 1 \\,\\Longrightarrow 0\\, f(x,y) \\geq 0 \\texttt{ or } g(x, y) \\geq 0$$\n",
    "e che\n",
    "$$ \\int_0^1 \\int_0^1 f(x,y) dx dy = \\int_0^1 \\int_0^1 g(x,y) dx dy = 1 $$\n",
    "perché se necessario la funzione si può traslare e scalare."
   ]
  },
  {
   "cell_type": "code",
   "execution_count": 1,
   "metadata": {},
   "outputs": [],
   "source": [
    "import numpy as np\n",
    "import matplotlib.pyplot as plt\n",
    "import random\n",
    "from scipy import interpolate\n",
    "\n",
    "N = 20\n",
    "\n",
    "def ccf(x, y, cx, cy):\n",
    "     return (x - cx)**2 + (y - cy)**2\n",
    "\n",
    "def random_2d_sampler(xx, yy):\n",
    "    zs = np.array([ ccf(xx, yy, random.random(), random.random()) for i in range(9) ])\n",
    "    return np.amin(zs, axis=0)\n",
    "\n",
    "x = y = np.linspace(0, 1, N, endpoint=False)\n",
    "xx, yy = np.meshgrid(x, y)\n",
    "\n",
    "f_samples = random_2d_sampler(xx, yy)\n",
    "f_samples /= sum(sum(f_samples))\n",
    "g_samples = random_2d_sampler(xx, yy)\n",
    "g_samples /= sum(sum(g_samples))\n"
   ]
  },
  {
   "cell_type": "code",
   "execution_count": 2,
   "metadata": {},
   "outputs": [
    {
     "data": {
      "text/plain": [
       "<matplotlib.collections.QuadMesh at 0x7fc089b4f2d0>"
      ]
     },
     "execution_count": 2,
     "metadata": {},
     "output_type": "execute_result"
    },
    {
     "data": {
      "image/png": "[encoded data removed]",
      "text/plain": [
       "<Figure size 432x288 with 2 Axes>"
      ]
     },
     "metadata": {
      "needs_background": "light"
     },
     "output_type": "display_data"
    }
   ],
   "source": [
    "plt.subplot(1,2,1)\n",
    "plt.pcolormesh(x, y, f_samples)\n",
    "\n",
    "plt.subplot(1,2,2)\n",
    "plt.pcolormesh(x, y, g_samples)"
   ]
  },
  {
   "cell_type": "code",
   "execution_count": 3,
   "metadata": {},
   "outputs": [],
   "source": [
    "f = interpolate.interp2d(x, y, f_samples, kind='cubic')\n",
    "g = interpolate.interp2d(x, y, g_samples, kind='cubic')"
   ]
  },
  {
   "cell_type": "code",
   "execution_count": 4,
   "metadata": {},
   "outputs": [],
   "source": [
    "indi_joint = np.empty((N,N,N,N))"
   ]
  },
  {
   "cell_type": "code",
   "execution_count": 5,
   "metadata": {},
   "outputs": [],
   "source": [
    "for i in range(N):\n",
    "    for j in range(N):\n",
    "         for h in range(N):\n",
    "                for k in range(N):\n",
    "                    indi_joint[i,j,h,k] = f(i/N,j/N) * g(h/N, k/N)"
   ]
  },
  {
   "cell_type": "code",
   "execution_count": 6,
   "metadata": {},
   "outputs": [],
   "source": [
    "from math import floor\n",
    "def intermediate(joint, i, j, h, k, t):\n",
    "    wi = floor(i + t*(h-i))\n",
    "    wj = floor(j + t*(k-j))\n",
    "    return (wi, wj, joint[i,j,h,k])"
   ]
  },
  {
   "cell_type": "code",
   "execution_count": 9,
   "metadata": {},
   "outputs": [
    {
     "data": {
      "image/png": "[encoded data removed]",
      "text/plain": [
       "<Figure size 432x288 with 2 Axes>"
      ]
     },
     "metadata": {
      "needs_background": "light"
     },
     "output_type": "display_data"
    }
   ],
   "source": [
    "from IPython.display import clear_output\n",
    "for t in range(0,11):\n",
    "    int_samples = np.zeros((N,N))\n",
    "    for i in range(N):\n",
    "        for j in range(N):\n",
    "             for h in range(N):\n",
    "                    for k in range(N):\n",
    "                        wi, wj, weight = intermediate(indi_joint,i,j,h,k,t/10)\n",
    "                        int_samples[wi,wj] += weight\n",
    "    clear_output()\n",
    "    plt.subplot(1,2,1)\n",
    "    plt.pcolormesh(x, y, f_samples)\n",
    "    plt.subplot(1,2,2)\n",
    "    plt.pcolormesh(x, y, int_samples)\n",
    "    plt.show()"
   ]
  },
  {
   "cell_type": "code",
   "execution_count": null,
   "metadata": {},
   "outputs": [],
   "source": []
  }
 ],
 "metadata": {
  "kernelspec": {
   "display_name": "Python 3",
   "language": "python",
   "name": "python3"
  },
  "language_info": {
   "codemirror_mode": {
    "name": "ipython",
    "version": 3
   },
   "file_extension": ".py",
   "mimetype": "text/x-python",
   "name": "python",
   "nbconvert_exporter": "python",
   "pygments_lexer": "ipython3",
   "version": "3.7.7"
  }
 },
 "nbformat": 4,
 "nbformat_minor": 4
}
