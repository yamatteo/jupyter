{
 "cells": [
  {
   "cell_type": "markdown",
   "metadata": {},
   "source": [
    "# Wasserstein distance implementations"
   ]
  },
  {
   "cell_type": "code",
   "execution_count": 1,
   "metadata": {},
   "outputs": [
    {
     "data": {
      "text/html": [
       "<style>.container { width:90% !important; }</style>"
      ],
      "text/plain": [
       "<IPython.core.display.HTML object>"
      ]
     },
     "metadata": {},
     "output_type": "display_data"
    }
   ],
   "source": [
    "from IPython.core.display import display, HTML\n",
    "display(HTML(\"<style>.container { width:90% !important; }</style>\"))"
   ]
  },
  {
   "cell_type": "code",
   "execution_count": 2,
   "metadata": {},
   "outputs": [
    {
     "ename": "ModuleNotFoundError",
     "evalue": "No module named 'matplotlib'",
     "output_type": "error",
     "traceback": [
      "\u001b[0;31m---------------------------------------------------------------------------\u001b[0m",
      "\u001b[0;31mModuleNotFoundError\u001b[0m                       Traceback (most recent call last)",
      "\u001b[0;32m<ipython-input-2-dd72b1e477f8>\u001b[0m in \u001b[0;36m<module>\u001b[0;34m\u001b[0m\n\u001b[1;32m      1\u001b[0m \u001b[0;32mimport\u001b[0m \u001b[0mnumpy\u001b[0m \u001b[0;32mas\u001b[0m \u001b[0mnp\u001b[0m\u001b[0;34m\u001b[0m\u001b[0;34m\u001b[0m\u001b[0m\n\u001b[0;32m----> 2\u001b[0;31m \u001b[0;32mimport\u001b[0m \u001b[0mmatplotlib\u001b[0m\u001b[0;34m.\u001b[0m\u001b[0mpyplot\u001b[0m \u001b[0;32mas\u001b[0m \u001b[0mplt\u001b[0m\u001b[0;34m\u001b[0m\u001b[0;34m\u001b[0m\u001b[0m\n\u001b[0m\u001b[1;32m      3\u001b[0m \u001b[0;32mimport\u001b[0m \u001b[0mglob\u001b[0m\u001b[0;34m\u001b[0m\u001b[0;34m\u001b[0m\u001b[0m\n\u001b[1;32m      4\u001b[0m \u001b[0;34m\u001b[0m\u001b[0m\n\u001b[1;32m      5\u001b[0m \u001b[0;32mimport\u001b[0m \u001b[0mtorch\u001b[0m\u001b[0;34m\u001b[0m\u001b[0;34m\u001b[0m\u001b[0m\n",
      "\u001b[0;31mModuleNotFoundError\u001b[0m: No module named 'matplotlib'"
     ]
    }
   ],
   "source": [
    "import numpy as np\n",
    "import matplotlib.pyplot as plt\n",
    "import glob\n",
    "\n",
    "import torch\n",
    "import torch.nn as nn\n",
    "from torch.utils.data import TensorDataset, DataLoader\n",
    "\n",
    "print(\"changes this that 3 4\")"
   ]
  },
  {
   "cell_type": "code",
   "execution_count": 3,
   "metadata": {},
   "outputs": [],
   "source": [
    "class Args:\n",
    "    ''' at the place of the argparse'''\n",
    "    data_path = '/Users/camillapenzo/WORK_DATA/Heartbeat_DATA/Dataset/'\n",
    "    input_dim = 60\n",
    "    n_layers = 1\n",
    "    output_size = 1\n",
    "    hidden_dim_1 = 150\n",
    "    hidden_dim_2 = 100\n",
    "    hidden_dim_3 = 50\n",
    "    batch_size = 72\n",
    "    epochs = 10\n",
    "    lr = 1e-3\n",
    "    normalize_X = True\n",
    "    normalize_y = True\n",
    "\n",
    "args = Args()"
   ]
  },
  {
   "cell_type": "code",
   "execution_count": 4,
   "metadata": {},
   "outputs": [
    {
     "name": "stdout",
     "output_type": "stream",
     "text": [
      "Folders found:\n",
      " ['/Users/camillapenzo/WORK_DATA/Heartbeat_DATA/Dataset/subject1', '/Users/camillapenzo/WORK_DATA/Heartbeat_DATA/Dataset/subject10', '/Users/camillapenzo/WORK_DATA/Heartbeat_DATA/Dataset/subject11', '/Users/camillapenzo/WORK_DATA/Heartbeat_DATA/Dataset/subject12', '/Users/camillapenzo/WORK_DATA/Heartbeat_DATA/Dataset/subject13', '/Users/camillapenzo/WORK_DATA/Heartbeat_DATA/Dataset/subject15', '/Users/camillapenzo/WORK_DATA/Heartbeat_DATA/Dataset/subject3', '/Users/camillapenzo/WORK_DATA/Heartbeat_DATA/Dataset/subject4', '/Users/camillapenzo/WORK_DATA/Heartbeat_DATA/Dataset/subject43', '/Users/camillapenzo/WORK_DATA/Heartbeat_DATA/Dataset/subject5', '/Users/camillapenzo/WORK_DATA/Heartbeat_DATA/Dataset/subject8', '/Users/camillapenzo/WORK_DATA/Heartbeat_DATA/Dataset/subject9']\n",
      "Gathering data from subject /Users/camillapenzo/WORK_DATA/Heartbeat_DATA/Dataset/subject1\n",
      "Gathering data from subject /Users/camillapenzo/WORK_DATA/Heartbeat_DATA/Dataset/subject10\n",
      "Gathering data from subject /Users/camillapenzo/WORK_DATA/Heartbeat_DATA/Dataset/subject11\n",
      "Gathering data from subject /Users/camillapenzo/WORK_DATA/Heartbeat_DATA/Dataset/subject12\n",
      "Gathering data from subject /Users/camillapenzo/WORK_DATA/Heartbeat_DATA/Dataset/subject13\n",
      "Gathering data from subject /Users/camillapenzo/WORK_DATA/Heartbeat_DATA/Dataset/subject15\n",
      "Gathering data from subject /Users/camillapenzo/WORK_DATA/Heartbeat_DATA/Dataset/subject3\n",
      "Gathering data from subject /Users/camillapenzo/WORK_DATA/Heartbeat_DATA/Dataset/subject4\n",
      "Gathering data from subject /Users/camillapenzo/WORK_DATA/Heartbeat_DATA/Dataset/subject43\n",
      "Gathering data from subject /Users/camillapenzo/WORK_DATA/Heartbeat_DATA/Dataset/subject5\n",
      "Gathering data from subject /Users/camillapenzo/WORK_DATA/Heartbeat_DATA/Dataset/subject8\n",
      "Gathering data from subject /Users/camillapenzo/WORK_DATA/Heartbeat_DATA/Dataset/subject9\n",
      "train_X.shape =  (19829, 50, 60)\n",
      "train_y.shape =  (19829, 1)\n",
      "test_X.shape =  (1966, 50, 60)\n",
      "test_y.shape =  (1966, 1)\n"
     ]
    }
   ],
   "source": [
    "# Preprocessing:\n",
    "# per video we choose 20 boxes\n",
    "# each box gives us the intensity changes in 3 chavvels (RGB)\n",
    "# 60 values per frame per subject\n",
    "\n",
    "# Dividing in windows of size look_back:\n",
    "# 60 windows of look_back points for each (frame - look_back)\n",
    "\n",
    "\n",
    "def create_dataset(data_x, data_y, look_back=50):\n",
    "    dataX, dataY = [], []\n",
    "    for i in range(len(data_x)-look_back):\n",
    "        a = data_x[i:(i+look_back)]\n",
    "        dataX.append(a)\n",
    "        dataY.append(data_y[i + look_back])\n",
    "    return np.array(dataX), np.array(dataY)\n",
    "\n",
    "\n",
    "def create_X_y(args):\n",
    "    \n",
    "    # Find all subject folders\n",
    "    folders = sorted(glob.glob(args.data_path+'subject*'))\n",
    "    print('Folders found:\\n', folders)\n",
    "    \n",
    "    # Construct X,y \n",
    "    \n",
    "    tab_X =[]\n",
    "    tab_y =[]\n",
    "    \n",
    "    for subject in folders:\n",
    "        \n",
    "        print('Gathering data from subject', subject)\n",
    "        data_X = np.load(subject+'/signals.npy')\n",
    "        data_y = np.loadtxt(subject+'/ground_truth.txt')[0]\n",
    "        X,y = create_dataset(data_X, data_y) \n",
    "        \n",
    "        if args.normalize_X:\n",
    "            min_   = np.min(X)\n",
    "            range_ = np.max(X) - min_ \n",
    "            X = (X - min_) / range_  \n",
    "\n",
    "        if args.normalize_y:\n",
    "            min_   = np.min(y)\n",
    "            range_ = np.max(y) - min_ \n",
    "            y = (y - min_) / range_ \n",
    "\n",
    "        tab_X.append(X)\n",
    "        tab_y.append(y.reshape(-1,1))\n",
    "                \n",
    "    # Use all subjects apart from last one for trainning dataset\n",
    "    train_X = np.concatenate(tab_X[:-1],axis=0)\n",
    "    train_y = np.concatenate(tab_y[:-1],axis=0)\n",
    "    print('train_X.shape = ', train_X.shape)\n",
    "    print('train_y.shape = ', train_y.shape)\n",
    "    \n",
    "    # Use last subject for testing dataset\n",
    "    test_X = tab_X[-1]\n",
    "    test_y = tab_y[-1]\n",
    "    print('test_X.shape = ', test_X.shape)\n",
    "    print('test_y.shape = ', test_y.shape)\n",
    "    \n",
    "    ## Save test dataset\n",
    "    #np.save('test_X.npy', test_X)\n",
    "    #np.save('test_y.npy', test_y)\n",
    "    ##        \n",
    "\n",
    "    return train_X, train_y, test_X, test_y\n",
    "\n",
    "train_X, train_y, test_X, test_y = create_X_y(args)"
   ]
  },
  {
   "cell_type": "code",
   "execution_count": 5,
   "metadata": {},
   "outputs": [],
   "source": [
    "class LSTM(nn.Module):\n",
    "    def __init__(self, input_dim, output_size, hidden_dim, n_layers):\n",
    "\n",
    "        super(LSTM, self).__init__()\n",
    "        \n",
    "        self.input_dim   = input_dim\n",
    "        self.output_size = output_size\n",
    "        self.n_layers    = n_layers\n",
    "        self.hidden_dim  = hidden_dim\n",
    "        \n",
    "        self.lstm_1 = nn.LSTM(input_dim,     hidden_dim[0], n_layers, batch_first=True)\n",
    "        self.lstm_2 = nn.LSTM(hidden_dim[0], hidden_dim[1], n_layers, batch_first=True)\n",
    "        self.lstm_3 = nn.LSTM(hidden_dim[1], hidden_dim[2], n_layers, batch_first=False)\n",
    "\n",
    "        self.fc = nn.Linear(hidden_dim[2], output_size)\n",
    "        \n",
    "    def forward(self, x): #, hidden):\n",
    "        lstm_out_1, hidden = self.lstm_1(x) #, hidden)\n",
    "        lstm_out_2, hidden = self.lstm_2(lstm_out_1) #, hidden)\n",
    "        lstm_out_3, hidden = self.lstm_3(lstm_out_2) #, hidden)\n",
    "        last_frame_lstm_3 = lstm_out_3[:, -1, :]\n",
    "        out = self.fc(last_frame_lstm_3)\n",
    "\n",
    "        return out #, hidden"
   ]
  },
  {
   "cell_type": "code",
   "execution_count": 6,
   "metadata": {},
   "outputs": [
    {
     "name": "stdout",
     "output_type": "stream",
     "text": [
      "Built a train data loader.\n",
      "Built a test data loader.\n",
      "Defined a LSTM model.\n"
     ]
    }
   ],
   "source": [
    "# Build a train data loader\n",
    "train_data = TensorDataset(torch.as_tensor(train_X, dtype=torch.float32), torch.as_tensor(train_y, dtype=torch.float32))\n",
    "train_loader = DataLoader(train_data, shuffle=True, batch_size=args.batch_size)\n",
    "print('Built a train data loader.')\n",
    "\n",
    "# Build test data loader\n",
    "test_data = TensorDataset(torch.as_tensor(test_X, dtype=torch.float32), torch.as_tensor(test_y, dtype=torch.float32))\n",
    "test_loader = DataLoader(test_data, shuffle=True, batch_size=args.batch_size)\n",
    "print('Built a test data loader.')\n",
    "\n",
    "# Define model\n",
    "hidden_dim = [args.hidden_dim_1, args.hidden_dim_2, args.hidden_dim_3]\n",
    "model = LSTM(args.input_dim, args.output_size, hidden_dim, args.n_layers)\n",
    "print('Defined a LSTM model.')\n",
    "\n",
    "# Define optimizer\n",
    "optimizer = torch.optim.Adam(model.parameters(), lr=args.lr)\n",
    "\n",
    "# Define loss function\n",
    "#loss_fn = nn.KLDivLoss() #reduction='batchmean') # amount of information lost when Q is used to approximate P"
   ]
  },
  {
   "cell_type": "code",
   "execution_count": 7,
   "metadata": {},
   "outputs": [],
   "source": [
    "# Get data sample\n",
    "for epoch in range(1):\n",
    "    for inputs, targets in train_loader:       \n",
    "        inputs, labels = inputs, targets   \n",
    "        output = model(inputs)"
   ]
  },
  {
   "cell_type": "markdown",
   "metadata": {},
   "source": [
    "### Numpy/Scipy implementation"
   ]
  },
  {
   "cell_type": "code",
   "execution_count": 12,
   "metadata": {},
   "outputs": [],
   "source": [
    "from scipy import interpolate\n",
    "from scipy import integrate"
   ]
  },
  {
   "cell_type": "code",
   "execution_count": 13,
   "metadata": {},
   "outputs": [
    {
     "name": "stdout",
     "output_type": "stream",
     "text": [
      "[0.0759071  0.07306018 0.07362846 0.07358663 0.07566062 0.07685633\n",
      " 0.07711212 0.07698678 0.07707343 0.07689864 0.07648538 0.07692595\n",
      " 0.07788625 0.07798848 0.07849354 0.0781996  0.07820447 0.07810298\n",
      " 0.07760925 0.07761771 0.07746397 0.07805034 0.07776951 0.077468\n",
      " 0.07746477 0.07841227 0.07878468 0.07798529 0.07825948]\n",
      "min, max cumsum =  0.033948593 0.9999999\n"
     ]
    }
   ],
   "source": [
    "# p(x)\n",
    "#pred = [np.exp(-x*x) for x in np.arange(0,2,0.1)]\n",
    "pred = output.data.view(1,-1)[0].numpy()\n",
    "print(pred)\n",
    "cumsum_norm_pred = np.cumsum(pred/np.cumsum(pred)[-1])  # F\n",
    "print('min, max cumsum = ', np.min(cumsum_norm_pred), np.max(cumsum_norm_pred))"
   ]
  },
  {
   "cell_type": "code",
   "execution_count": 14,
   "metadata": {},
   "outputs": [
    {
     "data": {
      "text/plain": [
       "[<matplotlib.lines.Line2D at 0x12cf9af28>]"
      ]
     },
     "execution_count": 14,
     "metadata": {},
     "output_type": "execute_result"
    },
    {
     "data": {
      "image/png": "[encoded data removed]",
      "text/plain": [
       "<Figure size 432x288 with 1 Axes>"
      ]
     },
     "metadata": {
      "needs_background": "light"
     },
     "output_type": "display_data"
    }
   ],
   "source": [
    "plt.plot(pred/np.cumsum(pred)[-1])"
   ]
  },
  {
   "cell_type": "code",
   "execution_count": 15,
   "metadata": {},
   "outputs": [
    {
     "data": {
      "text/plain": [
       "[<matplotlib.lines.Line2D at 0x12d088c50>]"
      ]
     },
     "execution_count": 15,
     "metadata": {},
     "output_type": "execute_result"
    },
    {
     "data": {
      "image/png": "[encoded data removed]",
      "text/plain": [
       "<Figure size 432x288 with 1 Axes>"
      ]
     },
     "metadata": {
      "needs_background": "light"
     },
     "output_type": "display_data"
    }
   ],
   "source": [
    "# F(x)\n",
    "plt.plot(cumsum_norm_pred)"
   ]
  },
  {
   "cell_type": "code",
   "execution_count": 16,
   "metadata": {},
   "outputs": [
    {
     "name": "stdout",
     "output_type": "stream",
     "text": [
      "[0.3587444  0.6045977  0.19077568 0.47209862 0.7148847  0.6275862\n",
      " 0.5016141  0.06192661 0.3600364  0.5381166  0.25994265 0.7201102\n",
      " 0.34674713 0.8035755  0.5862069  0.36407766 0.5871041  0.68440765\n",
      " 0.34862384 0.2365179  0.12331839 0.87068963 0.14049585 0.3923767\n",
      " 0.5201794  0.2830189  0.1793722  0.26345292 0.19076306]\n",
      "min, max cumsum =  0.029092036 0.9999998\n"
     ]
    }
   ],
   "source": [
    "truth = targets.data.view(1,-1)[0].numpy()\n",
    "print(truth)\n",
    "cumsum_norm_truth = np.cumsum(truth/np.cumsum(truth)[-1])\n",
    "print('min, max cumsum = ', np.min(cumsum_norm_truth), np.max(cumsum_norm_truth))"
   ]
  },
  {
   "cell_type": "code",
   "execution_count": 17,
   "metadata": {},
   "outputs": [
    {
     "data": {
      "text/plain": [
       "[<matplotlib.lines.Line2D at 0x12d1611d0>]"
      ]
     },
     "execution_count": 17,
     "metadata": {},
     "output_type": "execute_result"
    },
    {
     "data": {
      "image/png": "[encoded data removed]",
      "text/plain": [
       "<Figure size 432x288 with 1 Axes>"
      ]
     },
     "metadata": {
      "needs_background": "light"
     },
     "output_type": "display_data"
    }
   ],
   "source": [
    "plt.plot(truth/np.cumsum(truth)[-1])"
   ]
  },
  {
   "cell_type": "code",
   "execution_count": 18,
   "metadata": {},
   "outputs": [
    {
     "data": {
      "text/plain": [
       "[<matplotlib.lines.Line2D at 0x12d1d0320>]"
      ]
     },
     "execution_count": 18,
     "metadata": {},
     "output_type": "execute_result"
    },
    {
     "data": {
      "image/png": "[encoded data removed]",
      "text/plain": [
       "<Figure size 432x288 with 1 Axes>"
      ]
     },
     "metadata": {
      "needs_background": "light"
     },
     "output_type": "display_data"
    }
   ],
   "source": [
    "plt.plot(cumsum_norm_truth)"
   ]
  },
  {
   "cell_type": "code",
   "execution_count": 19,
   "metadata": {},
   "outputs": [],
   "source": [
    "def F_inv(t, arr):\n",
    "    arr_norm = arr / np.cumsum(arr)[-1]\n",
    "    F_norm = np.cumsum(arr_norm)\n",
    "    F_inv_interpolated = interpolate.interp1d(F_norm, np.arange(len(arr)))\n",
    "    return F_inv_interpolated(t)"
   ]
  },
  {
   "cell_type": "code",
   "execution_count": 20,
   "metadata": {
    "scrolled": true
   },
   "outputs": [
    {
     "data": {
      "text/plain": [
       "[<matplotlib.lines.Line2D at 0x12d30b2e8>]"
      ]
     },
     "execution_count": 20,
     "metadata": {},
     "output_type": "execute_result"
    },
    {
     "data": {
      "image/png": "[encoded data removed]",
      "text/plain": [
       "<Figure size 432x288 with 1 Axes>"
      ]
     },
     "metadata": {
      "needs_background": "light"
     },
     "output_type": "display_data"
    }
   ],
   "source": [
    "prange = np.arange(np.min(cumsum_norm_pred), 1, 0.05)\n",
    "plt.plot(prange, F_inv(prange, pred))"
   ]
  },
  {
   "cell_type": "code",
   "execution_count": 21,
   "metadata": {},
   "outputs": [
    {
     "data": {
      "text/plain": [
       "[<matplotlib.lines.Line2D at 0x12d366048>]"
      ]
     },
     "execution_count": 21,
     "metadata": {},
     "output_type": "execute_result"
    },
    {
     "data": {
      "image/png": "[encoded data removed]",
      "text/plain": [
       "<Figure size 432x288 with 1 Axes>"
      ]
     },
     "metadata": {
      "needs_background": "light"
     },
     "output_type": "display_data"
    }
   ],
   "source": [
    "prange = np.arange(np.min(cumsum_norm_truth), 1, 0.05)\n",
    "plt.plot(prange, F_inv(prange, truth))"
   ]
  },
  {
   "cell_type": "code",
   "execution_count": 22,
   "metadata": {},
   "outputs": [],
   "source": [
    "def integrand(t, pred, truth):\n",
    "    return np.abs(F_inv(t, pred) - F_inv(t, truth))"
   ]
  },
  {
   "cell_type": "code",
   "execution_count": 23,
   "metadata": {},
   "outputs": [],
   "source": [
    "max_of_mins = np.max([np.min(cumsum_norm_pred), np.min(cumsum_norm_truth)])"
   ]
  },
  {
   "cell_type": "code",
   "execution_count": 25,
   "metadata": {},
   "outputs": [
    {
     "name": "stdout",
     "output_type": "stream",
     "text": [
      "(1.1787345996199268, 0.0017519211364207532)\n"
     ]
    }
   ],
   "source": [
    "W = integrate.quad(integrand, max_of_mins, 1, args=(pred, truth))\n",
    "print(W)"
   ]
  },
  {
   "cell_type": "markdown",
   "metadata": {},
   "source": [
    "### Pytorch implementation"
   ]
  },
  {
   "cell_type": "code",
   "execution_count": 8,
   "metadata": {},
   "outputs": [],
   "source": [
    "import torch.nn.functional as F"
   ]
  },
  {
   "cell_type": "code",
   "execution_count": 9,
   "metadata": {},
   "outputs": [],
   "source": [
    "def F_inv(t, arr):\n",
    "    x1 = torch.max(1. / (1. + F.relu(arr - t.view(-1,1))), dim=1)[1]\n",
    "    x2 = x1 + 1\n",
    "    F_x1 = arr[x1]\n",
    "    F_x2 = arr[x2]\n",
    "    return x2 - (x2 - x1) * (F_x2 - t) / (F_x2 - F_x1)"
   ]
  },
  {
   "cell_type": "code",
   "execution_count": 10,
   "metadata": {},
   "outputs": [],
   "source": [
    "def wasserstein_distance(y_pred, y_test, delta_t):\n",
    "    \n",
    "    y_pred = y_pred.data.view(1,-1)[0] # p(x)\n",
    "    y_test = y_test.data.view(1,-1)[0] # q(x)\n",
    "    \n",
    "    cumsum_norm_ypred = torch.cumsum(y_pred/torch.cumsum(y_pred, dim=0)[-1], dim=0)  # F(x)\n",
    "    cumsum_norm_ytest = torch.cumsum(y_test/torch.cumsum(y_test, dim=0)[-1], dim=0)  # G(x)\n",
    "    \n",
    "    t_bins = torch.arange(0,1, delta_t)\n",
    "\n",
    "    return torch.cumsum(torch.abs(F_inv(t_bins, cumsum_norm_ypred) - F_inv(t_bins, cumsum_norm_ytest)), dim=0)[-1] * delta_t"
   ]
  },
  {
   "cell_type": "code",
   "execution_count": 11,
   "metadata": {},
   "outputs": [
    {
     "data": {
      "text/plain": [
       "tensor(1.1880)"
      ]
     },
     "execution_count": 11,
     "metadata": {},
     "output_type": "execute_result"
    }
   ],
   "source": [
    "wasserstein_distance(output, targets, 0.0001)"
   ]
  }
 ],
 "metadata": {
  "kernelspec": {
   "display_name": "Python 3",
   "language": "python",
   "name": "python3"
  },
  "language_info": {
   "codemirror_mode": {
    "name": "ipython",
    "version": 3
   },
   "file_extension": ".py",
   "mimetype": "text/x-python",
   "name": "python",
   "nbconvert_exporter": "python",
   "pygments_lexer": "ipython3",
   "version": "3.8.2"
  }
 },
 "nbformat": 4,
 "nbformat_minor": 4
}
