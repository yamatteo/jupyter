{
 "cells": [
  {
   "cell_type": "markdown",
   "metadata": {},
   "source": [
    "**Sono abbastanza soddisfatto del risultato.**\n",
    "\n",
    "Resta da dimostrare che questa è effettivamente la distribuzione congiunta che da il trasporto ottimale."
   ]
  },
  {
   "cell_type": "code",
   "execution_count": 1,
   "metadata": {},
   "outputs": [],
   "source": [
    "from random import randint\n",
    "import numpy as np\n",
    "import matplotlib.pyplot as plt\n",
    "from numpy.polynomial.polynomial import polyval\n",
    "from math import floor"
   ]
  },
  {
   "cell_type": "markdown",
   "metadata": {},
   "source": [
    "Definisco `f` e `g` che sono due polinomi di grado `m-1` con coefficenti casuali nell'intervallo `[-1, 1[`. In verità sono calcolati solo in `N` punti equidistribuiti su `[0, 1[`. Quindi, a mio dispetto, sono degli array di dimensione `N`.\n",
    "Vedasi il grafico sottostante."
   ]
  },
  {
   "cell_type": "code",
   "execution_count": 2,
   "metadata": {},
   "outputs": [],
   "source": [
    "# I polinomi usati per generare la densità di probabilità hanno grado m-1\n",
    "# quindi n coefficenti.\n",
    "m = 12\n",
    "\n",
    "# N è il numero di samples\n",
    "N = 200\n",
    "x = np.linspace(0, 1, N, endpoint=False)\n",
    "\n",
    "# Coefficienti dei polinomi generati casualmente in [-1, 0[\n",
    "rg = np.random.default_rng(randint(0, 100000))\n",
    "f_coefficients = 2*rg.random(m)-1\n",
    "g_coefficients = 2*rg.random(m)-1\n",
    "\n",
    "# Calcolo del valore dei polinomi\n",
    "f = polyval(x, f_coefficients)\n",
    "g = polyval(x, g_coefficients)\n",
    "\n",
    "# Definizioni alternative di f, per giocare\n",
    "# f = rg.random(N)\n",
    "# f = np.linspace(1,0,N, endpoint=False)\n",
    "# f = np.linspace(0,1,N, endpoint=False)\n",
    "# f = np.ones(N)\n",
    "f = np.zeros(N); f[0] = 1; f[1] = 1; f[2] = 1;\n",
    "# f = np.sin(8*x)\n",
    "\n",
    "# Definizioni alternative di g, per giocare\n",
    "# g = rg.random(N)\n",
    "# g = np.linspace(1,0,N, endpoint=False)\n",
    "# g = np.linspace(0,1,N, endpoint=False)\n",
    "# g = np.ones(N)\n",
    "g = np.zeros(N); g[-3] = 1; g[-2] = 1; g[-1] = 1;\n",
    "# g = np.sin(8*x)\n",
    "\n",
    "# Se il minimo della funzione è negativo, la trasliamo verso l'alto.\n",
    "# Non esistono densità di probabilità negative.\n",
    "f -= min(min(f), 0) \n",
    "g -= min(min(g), 0)"
   ]
  },
  {
   "cell_type": "code",
   "execution_count": 3,
   "metadata": {
    "jupyter": {
     "source_hidden": true
    }
   },
   "outputs": [
    {
     "data": {
      "image/png": "[encoded data removed]",
      "text/plain": [
       "<Figure size 432x288 with 1 Axes>"
      ]
     },
     "metadata": {
      "needs_background": "light"
     },
     "output_type": "display_data"
    }
   ],
   "source": [
    "plt.xlim(0,1)\n",
    "plt.ylim(0,max(max(f), max(g))*1.05)\n",
    "plt.plot(x, f, 'b.', label=\"f\")\n",
    "plt.step(x, g, 'r.', label=\"g\")\n",
    "plt.legend()\n",
    "plt.show()"
   ]
  },
  {
   "cell_type": "markdown",
   "metadata": {},
   "source": [
    "> Calcoliamo l'integrale di questi polinomi con la regola del trapezio. Sì, proprio [quello degli acrobati](https://en.wikipedia.org/wiki/Trapezoidal_rule).\n",
    "\n",
    "Poi ho cambiato perché quella integrazione non andava d'accordo con quel che succede dopo, tutto uno spostare di granelli di polvere. E io devo sapere esattamente quanti granelli di polvere ci sono. Faccio notare però che i due integrali sono molto simili, differiscono per un inezia."
   ]
  },
  {
   "cell_type": "code",
   "execution_count": 4,
   "metadata": {
    "jupyter": {
     "source_hidden": true
    }
   },
   "outputs": [
    {
     "name": "stdout",
     "output_type": "stream",
     "text": [
      "L'integrale con il trapezio di f è 0.0125 mentre l'integrale del muratore è 0.015.\n",
      "La differenza è 0.0025, invece il dx è 0.005.\n",
      "\n",
      "\n",
      "L'integrale con il trapezio di g è 0.0125 mentre l'integrale del muratore è 0.015.\n",
      "La differenza è 0.0025, invece il dx è 0.005.\n"
     ]
    }
   ],
   "source": [
    "print(f\"L'integrale con il trapezio di f è {np.trapz(f, x):.3} mentre l'integrale del muratore è {sum(f)/N:.3}.\")\n",
    "print(f\"La differenza è {abs(np.trapz(f, x) - sum(f)/N):.3}, invece il dx è {1/N:.3}.\")\n",
    "print(\"\\n\")\n",
    "print(f\"L'integrale con il trapezio di g è {np.trapz(g, x):.3} mentre l'integrale del muratore è {sum(g)/N:.3}.\")\n",
    "print(f\"La differenza è {abs(np.trapz(g, x) - sum(g)/N):.3}, invece il dx è {1/N:.3}.\")"
   ]
  },
  {
   "cell_type": "markdown",
   "metadata": {},
   "source": [
    "Uso questo integrale per normalizzare i polinomi `f` e `g` in modo da poterli pensare come densità di probabilità.\n",
    "Vedasi il grafico sottostante per confrontare funzioni originarie e loro normalizzate."
   ]
  },
  {
   "cell_type": "code",
   "execution_count": 5,
   "metadata": {},
   "outputs": [],
   "source": [
    "f_weight = sum(f)/N\n",
    "g_weight = sum(g)/N\n",
    "                                          \n",
    "fnorm = f / f_weight\n",
    "gnorm = g / g_weight"
   ]
  },
  {
   "cell_type": "code",
   "execution_count": 6,
   "metadata": {
    "jupyter": {
     "source_hidden": true
    }
   },
   "outputs": [
    {
     "data": {
      "image/png": "[encoded data removed]",
      "text/plain": [
       "<Figure size 1152x360 with 3 Axes>"
      ]
     },
     "metadata": {
      "needs_background": "light"
     },
     "output_type": "display_data"
    }
   ],
   "source": [
    "fig, axs = plt.subplots(1,3,figsize=(16,5))\n",
    "\n",
    "top = max(max(f), max(fnorm), max(g), max(gnorm))\n",
    "# plt.subplot(1,3,1,figsize=(15,15))\n",
    "ax0 = axs[0]\n",
    "ax0.set_xlim(0,1)\n",
    "ax0.set_ylim(0,top)\n",
    "ax0.plot(x, f, 'grey', label='f')\n",
    "ax0.plot(x, fnorm, 'blue', label=\"f normalizzata\")\n",
    "ax0.legend()\n",
    "\n",
    "# plt.subplot(1,3,2)\n",
    "ax1 = axs[1]\n",
    "ax1.set_xlim(0,1)\n",
    "ax1.set_ylim(0,top)\n",
    "ax1.plot(x, g, 'grey', label=\"g\")\n",
    "ax1.plot(x, gnorm, 'red', label=\"g normalizzata\")\n",
    "ax1.legend()\n",
    "\n",
    "top = max(max(fnorm), max(gnorm))\n",
    "# plt.subplot(1,3,3)\n",
    "ax2 = axs[2]\n",
    "ax2.set_xlim(0,1)\n",
    "ax2.set_ylim(0,top)\n",
    "ax2.plot(x, fnorm, 'blue', label=\"f normalizzata\")\n",
    "ax2.plot(x, gnorm, 'red', label=\"g normalizzata\")\n",
    "\n",
    "plt.legend()\n",
    "plt.show()"
   ]
  },
  {
   "cell_type": "markdown",
   "metadata": {},
   "source": [
    "Io interpreto ogni valore di `fnorm` come una \"densità di probabilità\" in approssimazione finita\n",
    ".\n",
    "Il vettore $\\mathbf{x}$ è in verità la successione finita $$\\{ x_n \\}_{0 \\leq n < N} = \\left\\{ \\frac{n}{N} \\right\\}_{0 \\leq n < N}$$.\n",
    "C'è una variabile casuale $\\mathcal{F}$ distribuita su $[0, 1[$ e $$\\mathrm{fnorm}(x_i) = N \\cdot \\mathbb{P}\\big( \\mathcal F \\in [x_n, x_{n+1}[ \\big)$$\n",
    "\n",
    "Ingenuamente, per $N \\to \\infty$ abbiamo che `fnorm` è una densità di probabilità."
   ]
  },
  {
   "cell_type": "code",
   "execution_count": 7,
   "metadata": {
    "jupyter": {
     "source_hidden": true
    }
   },
   "outputs": [],
   "source": [
    "# Questa funzione è servita durante lo sviluppo per capire che stava facendo l'algoritmo.\n",
    "# Prepariamo una funzione per rappresentare la matrice accanto a i valori di `fnorm` (in orizzontale) e `gnorm` (in verticale).\n",
    "# \n",
    "# np.set_printoptions(formatter={'float': lambda x: f\"{x:0.2f}\"}, edgeitems=3, threshold=6)\n",
    "# \n",
    "# def pprint(matrix):\n",
    "#     str(fnorm)[1:-1]\n",
    "#     print('', str(fnorm)[1:-1] )\n",
    "#     dots_break = False\n",
    "#     for i in range(N):\n",
    "#         if (i < 3 or i >= N-3):\n",
    "#             print(str(matrix[i]) + f\" {gnorm[i]:0.2f}\")\n",
    "#         else:\n",
    "#             if dots_break:\n",
    "#                 pass\n",
    "#             else:\n",
    "#                 print(\"... ...\")\n",
    "#                 dots_break = True"
   ]
  },
  {
   "cell_type": "markdown",
   "metadata": {},
   "source": [
    "Prepariamo una matrice `(N, N)` che conterrà i valori della distribuzione congiunta.\n",
    "\n",
    "Nella distribuzione congiunta ogni riga deve sommare al valore corrispondente di `gnorm` e ogni colonna deve sommare al valore corrispondente di `fnorm`.\n",
    "\n",
    "Questo era un ragionamento precedente che usava due cicli for uno dentro l'altro.\n",
    "> Partendo dalla prima riga riempiamo le caselle (scusa Pino) da sinistra verso destra, scendendo poi alla riga successiva. Ci sono due regole:\n",
    ">  - ogni casella `joint[i][j]`, sommata a tutte quelle più a sinistra, non può superare `gnorm[i]`\n",
    ">  - ogni casella `joint[i][j]`, sommata a tutte quelle più in alto, non può superare `fnorm[i]`\n",
    "\n",
    "Poi ho pensato ad un altro ragionamento che gira con un solo ciclo for.\n",
    " - `fav` è, ad ogni iterazione, quanta *dirt* resta disponibile da `fnorm`\n",
    " - se `gnorm[i]` è molto grande, c'è bisogno di usare molti `fav[j]` e svuotarli\n",
    " - il cumulativo di `fav` (traslato a dx di 1) mi dice per ogni `joint[i][j]` quanta *dirt* avrei già potuto depositare in quella riga a patto di usare tutto quello che c'è in `fav`\n",
    " - `gnorm[i] - cumsum(fav)` è un vettore che dice quanto vorrebbe ancora `gnorm` per ogni posto `j` della riga, visto che ad ogni posto `j` io aggiungo la *dirt* di `fav[j]` e quindi `gnorm[i]` ha sempre meno fame\n",
    " - limito quel vettore a un minimo di `0` perché se è negativo vuol dire che `gnorm[i]` era già stato completamente sfamato\n",
    " - limito quel vettore a un massimo di `fav[j]` perché più di quel tanto il vettore `fnorm` non può più dare\n",
    " - tolgo da `fav` tutta la *dirt* che ho distribuito."
   ]
  },
  {
   "cell_type": "code",
   "execution_count": 8,
   "metadata": {},
   "outputs": [],
   "source": [
    "joint = np.zeros((N, N))  # Matrice vuota\n",
    "fav = fnorm.copy()  # Copia di fnorm da cui si storneranno i valori già assegnati alla matrice\n",
    "\n",
    "\n",
    "for i in range(N):\n",
    "    # Stiamo scrivendo la joint[i], la i-esima riga della matrice\n",
    "    # gnorm[i] è il totale che vogliamo ottenere, la somma di tutti i pesi che distribuiamo\n",
    "    total = gnorm[i]\n",
    "    \n",
    "    # Il cumulativo di fav, traslato a destra di un posto\n",
    "    # Se stiamo decidendo cosa scrivere in joint[i][j]\n",
    "    # allora all_in[j] è quanto *sarebbe* già stato trasferito\n",
    "    # nell'ipotesi di dare tutto quello che è disponibile\n",
    "    all_in = np.insert(np.cumsum(fav), 0, 0)[:-1]\n",
    "    \n",
    "    # Al numero singolo total si sottrae il vettore all_in\n",
    "    # Se hunger[j] è positivo allora è la quantità di _dirt_ che ancora bisogna trasferire per saziare gnorm[i]\n",
    "    # Se hunger[j] è negativo significa che andando \"all in\" avremmo già trasferito troppo peso da fav in questa riga.\n",
    "    hunger = total - all_in\n",
    "    \n",
    "    # Si limita hunger ai valori sensati\n",
    "    # Il minimo è 0, perché non bisogna trasferire più del necessario.\n",
    "    # Il massimo è fav (vettore) perché non si può trasferire più di quanto è disponibile nella colonna.\n",
    "    line = np.clip(hunger, 0 , fav)\n",
    "    \n",
    "    joint[i] = line\n",
    "    \n",
    "    # Tutte le operazioni precedenti si possono svolgere in una linea\n",
    "    # joint[i] = np.clip(gnorm[i] - np.insert(np.cumsum(fav), 0, 0)[:-1], 0, fav)\n",
    "    \n",
    "    # Si toglie dal peso disponibile quanto è stato appena trasferito\n",
    "    fav -= joint[i]"
   ]
  },
  {
   "cell_type": "markdown",
   "metadata": {},
   "source": [
    "Il grafico mostra meglio dove stanno i pesi. Quando le funzioni sono simili la matrice assomiglia molto alla diagonale. Quando le funzioni sono molto diverse è più spostata.\n",
    "\n",
    "Però l'algoritmo fa il possibile (queste sono le mie intenzioni) per tenere la matrice il più possibile adesa alla diagonale.\n",
    "\n",
    "Questo perché i punti lontani dalla diagonale significano un trasporto lungo e costoso, come trasportare il peso si `fnorm[49]` fino a `gnorm[1]`. Non ha senso, è meglio se il peso di `fnorm[49]` cerca di stare il più possibile vicino a `gnorm[49]` (che sarebbe a costo 0)."
   ]
  },
  {
   "cell_type": "code",
   "execution_count": 9,
   "metadata": {
    "jupyter": {
     "source_hidden": true
    }
   },
   "outputs": [
    {
     "name": "stdout",
     "output_type": "stream",
     "text": [
      "[[0.00 0.00 0.00 0.00 0.00 0.00 ... 0.00 0.00 0.00 0.00 0.00 0.00]\n",
      " [0.00 0.00 0.00 0.00 0.00 0.00 ... 0.00 0.00 0.00 0.00 0.00 0.00]\n",
      " [0.00 0.00 0.00 0.00 0.00 0.00 ... 0.00 0.00 0.00 0.00 0.00 0.00]\n",
      " [0.00 0.00 0.00 0.00 0.00 0.00 ... 0.00 0.00 0.00 0.00 0.00 0.00]\n",
      " [0.00 0.00 0.00 0.00 0.00 0.00 ... 0.00 0.00 0.00 0.00 0.00 0.00]\n",
      " [0.00 0.00 0.00 0.00 0.00 0.00 ... 0.00 0.00 0.00 0.00 0.00 0.00]\n",
      " ...\n",
      " [0.00 0.00 0.00 0.00 0.00 0.00 ... 0.00 0.00 0.00 0.00 0.00 0.00]\n",
      " [0.00 0.00 0.00 0.00 0.00 0.00 ... 0.00 0.00 0.00 0.00 0.00 0.00]\n",
      " [0.00 0.00 0.00 0.00 0.00 0.00 ... 0.00 0.00 0.00 0.00 0.00 0.00]\n",
      " [66.67 0.00 0.00 0.00 0.00 0.00 ... 0.00 0.00 0.00 0.00 0.00 0.00]\n",
      " [0.00 66.67 0.00 0.00 0.00 0.00 ... 0.00 0.00 0.00 0.00 0.00 0.00]\n",
      " [0.00 0.00 66.67 0.00 0.00 0.00 ... 0.00 0.00 0.00 0.00 0.00 0.00]]\n"
     ]
    },
    {
     "data": {
      "image/png": "[encoded data removed]",
      "text/plain": [
       "<Figure size 288x288 with 1 Axes>"
      ]
     },
     "metadata": {
      "needs_background": "light"
     },
     "output_type": "display_data"
    }
   ],
   "source": [
    "np.set_printoptions(formatter={'float': lambda x: f\"{x:.2f}\"}, edgeitems=6)\n",
    "print(joint)\n",
    "\n",
    "plt.matshow(joint)\n",
    "plt.show()"
   ]
  },
  {
   "cell_type": "markdown",
   "metadata": {},
   "source": [
    "Per controllare che l'algoritmo abbia funzionato bene, che almeno sia una distribuzione congiunta di probabilità, mettiamo a grafico le due distribuzioni marginali con le sommatorie lungo colonne e righe rispettivamente. I due grafici dovrebbero essere sovrapposti."
   ]
  },
  {
   "cell_type": "code",
   "execution_count": 10,
   "metadata": {
    "jupyter": {
     "source_hidden": true
    }
   },
   "outputs": [
    {
     "data": {
      "image/png": "[encoded data removed]",
      "text/plain": [
       "<Figure size 432x288 with 2 Axes>"
      ]
     },
     "metadata": {
      "needs_background": "light"
     },
     "output_type": "display_data"
    }
   ],
   "source": [
    "top = max(max(fnorm), max(gnorm))\n",
    "plt.subplot(1,2,1)\n",
    "plt.ylim(0, top)\n",
    "plt.plot(x,fnorm, 'b-', label=\"fnorm\")\n",
    "plt.plot(x,np.sum(joint, axis=0), 'k.', label=\"joint's cols\")\n",
    "plt.legend()\n",
    "\n",
    "plt.subplot(1,2,2)\n",
    "plt.ylim(0, top)\n",
    "plt.plot(x,gnorm, 'r-', label=\"gnorm\")\n",
    "plt.plot(x,np.sum(joint, axis=1), 'k.', label=\"joint's rows\")\n",
    "plt.legend()\n",
    "plt.show()"
   ]
  },
  {
   "cell_type": "markdown",
   "metadata": {},
   "source": [
    "## Quello che segue è sbagliato"
   ]
  },
  {
   "cell_type": "code",
   "execution_count": 11,
   "metadata": {},
   "outputs": [
    {
     "name": "stdout",
     "output_type": "stream",
     "text": [
      "[66.67 66.67 66.67 0.00 0.00 0.00 ... 0.00 0.00 0.00 0.00 0.00 0.00]\n"
     ]
    }
   ],
   "source": [
    "np.set_printoptions(formatter={'float': lambda x: f\"{x:.2f}\"}, threshold=12, edgeitems=6)\n",
    "print(fnorm)"
   ]
  },
  {
   "cell_type": "code",
   "execution_count": 12,
   "metadata": {},
   "outputs": [
    {
     "name": "stdout",
     "output_type": "stream",
     "text": [
      "[0.00 0.00 0.00 0.00 0.00 0.00 ... 0.00 0.00 0.00 66.67 66.67 66.67]\n"
     ]
    }
   ],
   "source": [
    "print(gnorm)"
   ]
  },
  {
   "cell_type": "code",
   "execution_count": 13,
   "metadata": {},
   "outputs": [
    {
     "name": "stdout",
     "output_type": "stream",
     "text": [
      "[[0.00 0.00 0.00 0.00 0.00 0.00 ... 0.00 0.00 0.00 0.00 0.00 0.00]\n",
      " [0.00 0.00 0.00 0.00 0.00 0.00 ... 0.00 0.00 0.00 0.00 0.00 0.00]\n",
      " [0.00 0.00 0.00 0.00 0.00 0.00 ... 0.00 0.00 0.00 0.00 0.00 0.00]\n",
      " [0.00 0.00 0.00 0.00 0.00 0.00 ... 0.00 0.00 0.00 0.00 0.00 0.00]\n",
      " [0.00 0.00 0.00 0.00 0.00 0.00 ... 0.00 0.00 0.00 0.00 0.00 0.00]\n",
      " [0.00 0.00 0.00 0.00 0.00 0.00 ... 0.00 0.00 0.00 0.00 0.00 0.00]\n",
      " ...\n",
      " [0.00 0.00 0.00 0.00 0.00 0.00 ... 0.00 0.00 0.00 0.00 0.00 0.00]\n",
      " [0.00 0.00 0.00 0.00 0.00 0.00 ... 0.00 0.00 0.00 0.00 0.00 0.00]\n",
      " [0.00 0.00 0.00 0.00 0.00 0.00 ... 0.00 0.00 0.00 0.00 0.00 0.00]\n",
      " [66.67 0.00 0.00 0.00 0.00 0.00 ... 0.00 0.00 0.00 0.00 0.00 0.00]\n",
      " [0.00 66.67 0.00 0.00 0.00 0.00 ... 0.00 0.00 0.00 0.00 0.00 0.00]\n",
      " [0.00 0.00 66.67 0.00 0.00 0.00 ... 0.00 0.00 0.00 0.00 0.00 0.00]]\n"
     ]
    }
   ],
   "source": [
    "print(joint)"
   ]
  },
  {
   "cell_type": "code",
   "execution_count": 14,
   "metadata": {},
   "outputs": [],
   "source": [
    "null_to_gnorm = np.append((joint @ (x ** np.ones(N).reshape((N, 1)))).T, gnorm).reshape((N+1, N))"
   ]
  },
  {
   "cell_type": "code",
   "execution_count": 15,
   "metadata": {},
   "outputs": [],
   "source": [
    "fnorm_to_null = np.append(fnorm - (x ** np.ones(N).reshape((N, 1))).T @ joint, np.zeros(N)).reshape((N+1, N))"
   ]
  },
  {
   "cell_type": "code",
   "execution_count": 16,
   "metadata": {},
   "outputs": [],
   "source": [
    "morph_fnorm_to_gnorm = fnorm_to_null + null_to_gnorm"
   ]
  },
  {
   "cell_type": "code",
   "execution_count": 17,
   "metadata": {},
   "outputs": [
    {
     "data": {
      "text/plain": [
       "<matplotlib.image.AxesImage at 0x7f443b42a810>"
      ]
     },
     "execution_count": 17,
     "metadata": {},
     "output_type": "execute_result"
    },
    {
     "data": {
      "image/png": "[encoded data removed]",
      "text/plain": [
       "<Figure size 288x289.44 with 1 Axes>"
      ]
     },
     "metadata": {
      "needs_background": "light"
     },
     "output_type": "display_data"
    }
   ],
   "source": [
    "plt.matshow(morph_fnorm_to_gnorm)"
   ]
  },
  {
   "cell_type": "code",
   "execution_count": 18,
   "metadata": {},
   "outputs": [],
   "source": [
    "def tmp(w, a, b, t):\n",
    "    if t <= 0: return (a, w), (0, 0)\n",
    "    if t >= 1: reŧurn(0, 0), (b, w)\n",
    "    x = (1 - t) * a + t * b\n",
    "    n = floor(x)\n",
    "    return (n, w * (x - n)), (n + 1, w * (n + 1 - x))\n",
    "\n",
    "\n",
    "def intermediate(joint_distribution, t):\n",
    "    r = np.zeros(N)\n",
    "    for i in range(N):  # row index is the final index of the transition\n",
    "        for j in range(N):  # column index is the starting index of the transition\n",
    "            k = (1-t) * j + t * i  # k is the floating point intermediate index\n",
    "            left_k = floor(k)\n",
    "            right_k = min(left_k +1, N-1)\n",
    "            \n",
    "            weight = joint_distribution[i][j]  # how much dirt is to be moved from fnorm[j] to gnorm[i]\n",
    "            left_weight = (right_k - k) * weight\n",
    "            right_weight = weight - left_weight\n",
    "            \n",
    "            r[left_k] += left_weight\n",
    "            r[right_k] += right_weight\n",
    "    return r\n",
    "\n",
    "def morphing_matrix(joint_distribution, steps: int = 60):\n",
    "    list_of_distributions = []\n",
    "    for t in np.linspace(0, 1, steps):\n",
    "        list_of_distributions.append(intermediate(joint_distribution, t))\n",
    "    plt.matshow(np.array(list_of_distributions))\n",
    "    plt.show()\n",
    "        "
   ]
  },
  {
   "cell_type": "code",
   "execution_count": 19,
   "metadata": {},
   "outputs": [
    {
     "data": {
      "image/png": "[encoded data removed]",
      "text/plain": [
       "<Figure size 960x288 with 1 Axes>"
      ]
     },
     "metadata": {
      "needs_background": "light"
     },
     "output_type": "display_data"
    }
   ],
   "source": [
    "morphing_matrix(joint)"
   ]
  },
  {
   "cell_type": "code",
   "execution_count": 20,
   "metadata": {},
   "outputs": [],
   "source": [
    "%matplotlib inline"
   ]
  },
  {
   "cell_type": "code",
   "execution_count": 21,
   "metadata": {},
   "outputs": [],
   "source": [
    "from matplotlib import animation, rc\n",
    "from IPython.display import HTML"
   ]
  },
  {
   "cell_type": "code",
   "execution_count": 22,
   "metadata": {},
   "outputs": [
    {
     "data": {
      "image/png": "[encoded data removed]",
      "text/plain": [
       "<Figure size 432x288 with 1 Axes>"
      ]
     },
     "metadata": {
      "needs_background": "light"
     },
     "output_type": "display_data"
    }
   ],
   "source": [
    "# First set up the figure, the axis, and the plot element we want to animate\n",
    "fig, ax = plt.subplots()\n",
    "\n",
    "top = max(max(fnorm), max(gnorm))\n",
    "ax.set_xlim(( 0, 1))\n",
    "ax.set_ylim((0, top))\n",
    "\n",
    "line, = ax.plot([], [], lw=2)"
   ]
  },
  {
   "cell_type": "code",
   "execution_count": 23,
   "metadata": {},
   "outputs": [],
   "source": [
    "# initialization function: plot the background of each frame\n",
    "def init():\n",
    "    line.set_data([], [])\n",
    "    return (line,)"
   ]
  },
  {
   "cell_type": "code",
   "execution_count": 27,
   "metadata": {},
   "outputs": [],
   "source": [
    "# animation function. This is called sequentially\n",
    "def animate(i):\n",
    "    y = intermediate(joint, i/1000)\n",
    "#     y = np.sin(2 * np.pi * (x - 0.01 * i))\n",
    "    line.set_data(x, y)\n",
    "    return (line,)"
   ]
  },
  {
   "cell_type": "code",
   "execution_count": 28,
   "metadata": {},
   "outputs": [],
   "source": [
    "# call the animator. blit=True means only re-draw the parts that have changed.\n",
    "anim = animation.FuncAnimation(fig, animate, init_func=init,\n",
    "                               frames=1000, interval=50, blit=True)"
   ]
  },
  {
   "cell_type": "code",
   "execution_count": null,
   "metadata": {},
   "outputs": [],
   "source": [
    "HTML(anim.to_html5_video())"
   ]
  },
  {
   "cell_type": "code",
   "execution_count": null,
   "metadata": {},
   "outputs": [],
   "source": []
  }
 ],
 "metadata": {
  "kernelspec": {
   "display_name": "Python 3",
   "language": "python",
   "name": "python3"
  },
  "language_info": {
   "codemirror_mode": {
    "name": "ipython",
    "version": 3
   },
   "file_extension": ".py",
   "mimetype": "text/x-python",
   "name": "python",
   "nbconvert_exporter": "python",
   "pygments_lexer": "ipython3",
   "version": "3.7.6"
  }
 },
 "nbformat": 4,
 "nbformat_minor": 4
}
